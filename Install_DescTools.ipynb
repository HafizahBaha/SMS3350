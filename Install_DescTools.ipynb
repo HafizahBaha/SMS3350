{
  "nbformat": 4,
  "nbformat_minor": 0,
  "metadata": {
    "colab": {
      "name": "Install DescTools.ipynb",
      "provenance": [],
      "authorship_tag": "ABX9TyOXNq8zikfj7ATJInVGIhtF",
      "include_colab_link": true
    },
    "kernelspec": {
      "name": "ir",
      "display_name": "R"
    },
    "language_info": {
      "name": "R"
    }
  },
  "cells": [
    {
      "cell_type": "markdown",
      "metadata": {
        "id": "view-in-github",
        "colab_type": "text"
      },
      "source": [
        "<a href=\"https://colab.research.google.com/github/HafizahBaha/SMS3350/blob/main/Install_DescTools.ipynb\" target=\"_parent\"><img src=\"https://colab.research.google.com/assets/colab-badge.svg\" alt=\"Open In Colab\"/></a>"
      ]
    },
    {
      "cell_type": "code",
      "execution_count": 1,
      "metadata": {
        "id": "LbqRnfTGi7kM",
        "colab": {
          "base_uri": "https://localhost:8080/"
        },
        "outputId": "ab81c1c4-450b-4952-8aac-0659ba36a5c2"
      },
      "outputs": [
        {
          "output_type": "stream",
          "name": "stderr",
          "text": [
            "Installing package into ‘/usr/local/lib/R/site-library’\n",
            "(as ‘lib’ is unspecified)\n",
            "\n",
            "also installing the dependencies ‘proxy’, ‘rootSolve’, ‘e1071’, ‘lmom’, ‘mvtnorm’, ‘expm’, ‘Rcpp’, ‘Exact’, ‘gld’, ‘BH’\n",
            "\n",
            "\n"
          ]
        }
      ],
      "source": [
        "install.packages(\"DescTools\")"
      ]
    },
    {
      "cell_type": "code",
      "source": [
        "library(DescTools)"
      ],
      "metadata": {
        "id": "fmfUAZhIJz6m"
      },
      "execution_count": 2,
      "outputs": []
    }
  ]
}
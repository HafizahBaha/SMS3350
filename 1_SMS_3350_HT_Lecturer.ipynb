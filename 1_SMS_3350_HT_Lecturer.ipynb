{
  "nbformat": 4,
  "nbformat_minor": 0,
  "metadata": {
    "colab": {
      "name": "1 SMS 3350 HT Lecturer.ipynb",
      "provenance": [],
      "collapsed_sections": [],
      "toc_visible": true,
      "authorship_tag": "ABX9TyNNw9YhA2Bj05IJH7qzJl4U",
      "include_colab_link": true
    },
    "kernelspec": {
      "name": "ir",
      "display_name": "R"
    },
    "language_info": {
      "name": "R"
    }
  },
  "cells": [
    {
      "cell_type": "markdown",
      "metadata": {
        "id": "view-in-github",
        "colab_type": "text"
      },
      "source": [
        "<a href=\"https://colab.research.google.com/github/HafizahBaha/SMS3350/blob/main/1_SMS_3350_HT_Lecturer.ipynb\" target=\"_parent\"><img src=\"https://colab.research.google.com/assets/colab-badge.svg\" alt=\"Open In Colab\"/></a>"
      ]
    },
    {
      "cell_type": "markdown",
      "source": [
        "**SMS 3350**\\\n",
        "**STATISTICAL METHODS**\\\n",
        "**R TUTORIAL**\n",
        "\n",
        "\n",
        "\n"
      ],
      "metadata": {
        "id": "JKWzaKHsvnUh"
      }
    },
    {
      "cell_type": "markdown",
      "source": [
        "# HYPOTHESIS TESTING "
      ],
      "metadata": {
        "id": "VT4KxTUHuSZd"
      }
    },
    {
      "cell_type": "markdown",
      "source": [
        "# ONE SAMPLE T-TEST"
      ],
      "metadata": {
        "id": "RQL85dbfvGHR"
      }
    },
    {
      "cell_type": "markdown",
      "source": [
        "## Install library"
      ],
      "metadata": {
        "id": "xwiPxdADvVpK"
      }
    },
    {
      "cell_type": "code",
      "source": [
        "install.packages(\"yarrr\")"
      ],
      "metadata": {
        "id": "iC7v4C_AzC2E"
      },
      "execution_count": null,
      "outputs": []
    },
    {
      "cell_type": "markdown",
      "source": [
        "## Call library"
      ],
      "metadata": {
        "id": "x6NSvjxfygSL"
      }
    },
    {
      "cell_type": "code",
      "source": [
        "library(yarrr)"
      ],
      "metadata": {
        "id": "JjFezIUGwopc"
      },
      "execution_count": null,
      "outputs": []
    },
    {
      "cell_type": "markdown",
      "source": [
        "### CRAN Project & Manual\n",
        "\n",
        "\n",
        "*   Link for CRAN : https://cran.r-project.org/web/packages/yarrr/index.html\n",
        "*   Link for Manual : https://cran.r-project.org/web/packages/yarrr/yarrr.pdf \n",
        "\n",
        "\n"
      ],
      "metadata": {
        "id": "cejpldVnz6In"
      }
    },
    {
      "cell_type": "markdown",
      "source": [
        "## Data"
      ],
      "metadata": {
        "id": "gkMfHNT0yzYy"
      }
    },
    {
      "cell_type": "code",
      "source": [
        "raw.data=pirates\n",
        "head(raw.data,6)"
      ],
      "metadata": {
        "id": "8Ye2LouUy2l1"
      },
      "execution_count": null,
      "outputs": []
    },
    {
      "cell_type": "markdown",
      "source": [
        "## Descriptive of data"
      ],
      "metadata": {
        "id": "LTdTzccO0sHp"
      }
    },
    {
      "cell_type": "code",
      "source": [
        "summary (raw.data)"
      ],
      "metadata": {
        "id": "gZi0GtU40yFD"
      },
      "execution_count": null,
      "outputs": []
    },
    {
      "cell_type": "markdown",
      "source": [
        "## Variable\n"
      ],
      "metadata": {
        "id": "2Ayi4PDx04sx"
      }
    },
    {
      "cell_type": "code",
      "source": [
        "###choose the height as variable\n",
        "height=raw.data$height\n",
        "head(height,10)"
      ],
      "metadata": {
        "id": "dtSzYqsl0_Y_"
      },
      "execution_count": null,
      "outputs": []
    },
    {
      "cell_type": "markdown",
      "source": [
        "## Check the normality"
      ],
      "metadata": {
        "id": "JYTrxeZk1V19"
      }
    },
    {
      "cell_type": "markdown",
      "source": [
        "### Graphical Ways to Check for Normal Distribution"
      ],
      "metadata": {
        "id": "BJfZdCr-1lba"
      }
    },
    {
      "cell_type": "code",
      "source": [
        "##Check the normality by using histogram\n",
        "hist(height,col=\"red\")"
      ],
      "metadata": {
        "id": "lACQFB501ojC"
      },
      "execution_count": null,
      "outputs": []
    },
    {
      "cell_type": "markdown",
      "source": [
        "### Numerical Ways to Check for Normal Distribution"
      ],
      "metadata": {
        "id": "wgIbEeC01x5u"
      }
    },
    {
      "cell_type": "code",
      "source": [
        "#Shapiro-Wilk normality test\n",
        "shapiro.test(height)"
      ],
      "metadata": {
        "id": "CFBtXJI41147"
      },
      "execution_count": null,
      "outputs": []
    },
    {
      "cell_type": "markdown",
      "source": [
        "## t.test for mean"
      ],
      "metadata": {
        "id": "1eopZ0gB19KU"
      }
    },
    {
      "cell_type": "code",
      "source": [
        "height.ttest <- t.test(x = height, # Vector of data\n",
        "mu = 158) # Null: Mean is 158\n",
        "height.ttest"
      ],
      "metadata": {
        "id": "4h0KfVUI2Ajy"
      },
      "execution_count": null,
      "outputs": []
    },
    {
      "cell_type": "code",
      "source": [
        "height.ttest <- t.test(x = height, # Vector of data\n",
        "mu = 170.5) # Null: Mean is 172\n",
        "height.ttest"
      ],
      "metadata": {
        "id": "ko-Voncw2Jut"
      },
      "execution_count": null,
      "outputs": []
    },
    {
      "cell_type": "markdown",
      "source": [
        "## t.test for proportion"
      ],
      "metadata": {
        "id": "WVlwWqtZ3qhI"
      }
    },
    {
      "cell_type": "code",
      "source": [
        "# counts the headband\n",
        "A1= table(raw.data$eyepatch)\n",
        "A1"
      ],
      "metadata": {
        "id": "5YVjNvTN3zLF"
      },
      "execution_count": null,
      "outputs": []
    },
    {
      "cell_type": "code",
      "source": [
        "# proportions by size, rounded to 2 decimals\n",
        "round(prop.table(A1), 2)"
      ],
      "metadata": {
        "id": "mL1qYe2Z35nL"
      },
      "execution_count": null,
      "outputs": []
    },
    {
      "cell_type": "code",
      "source": [
        "#plot the graph\n",
        "barplot(A1, main=\"Eyepatch Distribution\",\n",
        "ylab=\"counts\",col=\"purple\")\n"
      ],
      "metadata": {
        "id": "i9nM9JdP4FP-"
      },
      "execution_count": null,
      "outputs": []
    },
    {
      "cell_type": "code",
      "source": [
        "test <- prop.test(\n",
        "x = 658, # number of successes\n",
        "n = 1000, # total number of pirates\n",
        "p = 0.5\n",
        ") # we test for equal proportion so prob = 0.5 in each group\n",
        "test"
      ],
      "metadata": {
        "id": "t8wUirNr4f1C"
      },
      "execution_count": null,
      "outputs": []
    },
    {
      "cell_type": "markdown",
      "source": [
        "## Exercise\n",
        "\n"
      ],
      "metadata": {
        "id": "vk7OmL6Q4nJD"
      }
    },
    {
      "cell_type": "markdown",
      "source": [
        "**t.test for mean**\\\n",
        "*Use the weight as a variable in which mean of weight is 80*"
      ],
      "metadata": {
        "id": "fuABCaRT4zFu"
      }
    },
    {
      "cell_type": "code",
      "source": [
        "## Call the variable from data\n",
        "weight=raw.data$weight\n",
        "head(weight)"
      ],
      "metadata": {
        "id": "IEY-PwGy4sOu"
      },
      "execution_count": null,
      "outputs": []
    },
    {
      "cell_type": "code",
      "source": [
        "## get an overview of the variable\n",
        "summary(weight)"
      ],
      "metadata": {
        "id": "dv_bgmS05vGB"
      },
      "execution_count": null,
      "outputs": []
    },
    {
      "cell_type": "code",
      "source": [
        "## Check the normality using both ways\n",
        "\n",
        "##Check the normality by using histogram\n",
        "hist(weight,col=\"orange\")\n",
        "\n",
        "#Shapiro-Wilk normality test\n",
        "shapiro.test(weight)"
      ],
      "metadata": {
        "id": "dFuzKllb5KtP"
      },
      "execution_count": null,
      "outputs": []
    },
    {
      "cell_type": "code",
      "source": [
        "#t.test for mean\n",
        "weight.ttest <- t.test(x = weight, # Vector of data\n",
        "mu = 80) # Null: Mean is 80\n",
        "weight.ttest"
      ],
      "metadata": {
        "id": "PK7k5p0D5VX0"
      },
      "execution_count": null,
      "outputs": []
    },
    {
      "cell_type": "markdown",
      "source": [
        "**t.test for proportion**\\\n",
        " *Use the headband as a variable.\n",
        "Among the 1000 pirates, 51% and 49% are not wear and wear the headband, respectively.*"
      ],
      "metadata": {
        "id": "hp_Pjb3O7Hih"
      }
    },
    {
      "cell_type": "code",
      "source": [
        "# counts the headband\n",
        "A2= table(raw.data$headband)\n",
        "A2"
      ],
      "metadata": {
        "id": "vmsD6Rap7lSo"
      },
      "execution_count": null,
      "outputs": []
    },
    {
      "cell_type": "code",
      "source": [
        "#plot\n",
        "barplot(A2, main=\"Headband Distribution\",\n",
        "ylab=\"counts\",col=\"coral\")"
      ],
      "metadata": {
        "id": "7OaVRV088ARB"
      },
      "execution_count": null,
      "outputs": []
    },
    {
      "cell_type": "code",
      "source": [
        "test1 <- prop.test(\n",
        "x = 887, # number of successes\n",
        "n = 1000, # total number of pirates\n",
        "p = 0.5\n",
        ") # we test for equal proportion so prob = 0.5 in each group\n",
        "test1\n"
      ],
      "metadata": {
        "id": "GaxUAURz8R9G"
      },
      "execution_count": null,
      "outputs": []
    },
    {
      "cell_type": "markdown",
      "source": [
        "# TWO SAMPLE T-TEST"
      ],
      "metadata": {
        "id": "-DLtdEox9h-c"
      }
    },
    {
      "cell_type": "markdown",
      "source": [
        "## Two-Sample t-Test Independent Samples"
      ],
      "metadata": {
        "id": "8doyRTFS9n3B"
      }
    }
  ]
}
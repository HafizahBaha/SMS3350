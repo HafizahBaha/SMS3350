{
  "nbformat": 4,
  "nbformat_minor": 0,
  "metadata": {
    "colab": {
      "name": "Install library.ipynb",
      "provenance": [],
      "authorship_tag": "ABX9TyOq9bDjayk8KymrZuTLYiBS",
      "include_colab_link": true
    },
    "kernelspec": {
      "name": "ir",
      "display_name": "R"
    },
    "language_info": {
      "name": "R"
    }
  },
  "cells": [
    {
      "cell_type": "markdown",
      "metadata": {
        "id": "view-in-github",
        "colab_type": "text"
      },
      "source": [
        "<a href=\"https://colab.research.google.com/github/HafizahBaha/SMS3350/blob/main/Install_library.ipynb\" target=\"_parent\"><img src=\"https://colab.research.google.com/assets/colab-badge.svg\" alt=\"Open In Colab\"/></a>"
      ]
    },
    {
      "cell_type": "code",
      "execution_count": null,
      "metadata": {
        "id": "LbqRnfTGi7kM"
      },
      "outputs": [],
      "source": [
        ""
      ]
    },
    {
      "cell_type": "markdown",
      "source": [
        "# How to install library (rstatix & ggpubr)"
      ],
      "metadata": {
        "id": "IYL_9lMDBBzZ"
      }
    },
    {
      "cell_type": "markdown",
      "source": [
        "## 1. install library (nloptr)"
      ],
      "metadata": {
        "id": "_bGQyPbcBJ0B"
      }
    },
    {
      "cell_type": "code",
      "source": [
        "packageurl<-\"https://cran.r-project.org/src/contrib/Archive/nloptr/nloptr_1.2.1.tar.gz\"\n",
        "\n",
        "install.packages(packageurl, repos=NULL, type=\"source\")"
      ],
      "metadata": {
        "colab": {
          "base_uri": "https://localhost:8080/"
        },
        "id": "GpNBbkOABSOV",
        "outputId": "d0da63e6-bd82-4b3f-a700-d8299c815c9f"
      },
      "execution_count": 1,
      "outputs": [
        {
          "output_type": "stream",
          "name": "stderr",
          "text": [
            "Installing package into ‘/usr/local/lib/R/site-library’\n",
            "(as ‘lib’ is unspecified)\n",
            "\n"
          ]
        }
      ]
    },
    {
      "cell_type": "code",
      "source": [
        "library(nloptr)"
      ],
      "metadata": {
        "id": "NeUR9AK-BlPD"
      },
      "execution_count": 2,
      "outputs": []
    },
    {
      "cell_type": "markdown",
      "source": [
        "## 2. install library(rstatix)"
      ],
      "metadata": {
        "id": "Ib_dpO-SBrWt"
      }
    },
    {
      "cell_type": "code",
      "source": [
        "install.packages(\"rstatix\")"
      ],
      "metadata": {
        "colab": {
          "base_uri": "https://localhost:8080/"
        },
        "id": "opa5CWM7BwGX",
        "outputId": "bbad0bc7-8498-4662-9874-f017150e1e7c"
      },
      "execution_count": 3,
      "outputs": [
        {
          "output_type": "stream",
          "name": "stderr",
          "text": [
            "Installing package into ‘/usr/local/lib/R/site-library’\n",
            "(as ‘lib’ is unspecified)\n",
            "\n",
            "also installing the dependencies ‘numDeriv’, ‘SparseM’, ‘MatrixModels’, ‘sp’, ‘minqa’, ‘RcppEigen’, ‘carData’, ‘abind’, ‘pbkrtest’, ‘quantreg’, ‘maptools’, ‘lme4’, ‘corrplot’, ‘car’\n",
            "\n",
            "\n"
          ]
        }
      ]
    },
    {
      "cell_type": "code",
      "source": [
        "library(rstatix)"
      ],
      "metadata": {
        "colab": {
          "base_uri": "https://localhost:8080/"
        },
        "id": "jrtFGBSgC1S5",
        "outputId": "6e69a117-dc7b-411a-abe4-c694f79496c1"
      },
      "execution_count": 4,
      "outputs": [
        {
          "output_type": "stream",
          "name": "stderr",
          "text": [
            "\n",
            "Attaching package: ‘rstatix’\n",
            "\n",
            "\n",
            "The following object is masked from ‘package:stats’:\n",
            "\n",
            "    filter\n",
            "\n",
            "\n"
          ]
        }
      ]
    },
    {
      "cell_type": "markdown",
      "source": [
        "## 3. Install library(ggpubr)"
      ],
      "metadata": {
        "id": "7N7kQ2U7DEWK"
      }
    },
    {
      "cell_type": "code",
      "source": [
        "install.packages(\"ggpubr\")"
      ],
      "metadata": {
        "colab": {
          "base_uri": "https://localhost:8080/"
        },
        "id": "W3m0TdXIDISw",
        "outputId": "cd7317b4-a141-4fa6-a7e6-1cdf82ab6cab"
      },
      "execution_count": 5,
      "outputs": [
        {
          "output_type": "stream",
          "name": "stderr",
          "text": [
            "Installing package into ‘/usr/local/lib/R/site-library’\n",
            "(as ‘lib’ is unspecified)\n",
            "\n",
            "also installing the dependencies ‘ggrepel’, ‘ggsci’, ‘cowplot’, ‘ggsignif’, ‘gridExtra’, ‘polynom’\n",
            "\n",
            "\n"
          ]
        }
      ]
    },
    {
      "cell_type": "code",
      "source": [
        "library(ggpubr)"
      ],
      "metadata": {
        "colab": {
          "base_uri": "https://localhost:8080/"
        },
        "id": "mHRntvh0DxUj",
        "outputId": "ed0339de-2a5c-4f5b-fa49-27a29e24a6e1"
      },
      "execution_count": 6,
      "outputs": [
        {
          "output_type": "stream",
          "name": "stderr",
          "text": [
            "Loading required package: ggplot2\n",
            "\n"
          ]
        }
      ]
    }
  ]
}
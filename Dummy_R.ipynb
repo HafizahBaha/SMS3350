{
  "nbformat": 4,
  "nbformat_minor": 0,
  "metadata": {
    "colab": {
      "name": "Dummy R.ipynb",
      "provenance": [],
      "authorship_tag": "ABX9TyM/j5NK2m9fSRa75QXV1t6N",
      "include_colab_link": true
    },
    "kernelspec": {
      "name": "ir",
      "display_name": "R"
    },
    "language_info": {
      "name": "R"
    }
  },
  "cells": [
    {
      "cell_type": "markdown",
      "metadata": {
        "id": "view-in-github",
        "colab_type": "text"
      },
      "source": [
        "<a href=\"https://colab.research.google.com/github/HafizahBaha/SMS3350/blob/main/Dummy_R.ipynb\" target=\"_parent\"><img src=\"https://colab.research.google.com/assets/colab-badge.svg\" alt=\"Open In Colab\"/></a>"
      ]
    },
    {
      "cell_type": "code",
      "execution_count": null,
      "metadata": {
        "id": "LbqRnfTGi7kM"
      },
      "outputs": [],
      "source": [
        ""
      ]
    }
  ]
}